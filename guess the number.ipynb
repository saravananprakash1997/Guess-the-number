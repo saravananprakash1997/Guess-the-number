{
 "cells": [
  {
   "cell_type": "code",
   "execution_count": 7,
   "metadata": {
    "_cell_guid": "b1076dfc-b9ad-4769-8c92-a6c4dae69d19",
    "_uuid": "8f2839f25d086af736a60e9eeb907d3b93b6e0e5"
   },
   "outputs": [
    {
     "name": "stdout",
     "output_type": "stream",
     "text": [
      "Enter your name:prakash\n",
      "Welcome prakash, let us get into the game\n",
      "Enter what you have guessed(attempt no.1): 2\n",
      "What you have guessed is wrong\n",
      "Enter what you have guessed(attempt no.2): 6\n",
      "What you have guessed is wrong\n",
      "Enter what you have guessed(attempt no.3): 7\n",
      "You have founded in 3 attempts\n"
     ]
    }
   ],
   "source": [
    "# Generate a random number between 1 and 9 (including 1 and 9).\n",
    "# Ask the user to guess the number, then tell them whether they guessed too low, too high, or exactly right.\n",
    "import random\n",
    "number = random.randint(1,9)\n",
    "name = input(\"Enter your name:\")\n",
    "print(\"Welcome \"+str(name)+\", let us get into the game\")\n",
    "for i in range(10):\n",
    "    if i==3:\n",
    "        print(\"\\n Ran out of attempts\",\"sorry u have lost\")\n",
    "        print(\"The guessed number is \"+str(number))\n",
    "        break\n",
    "    guessed=int(input(\"Enter what you have guessed\"+\"(attempt no.\"+str(i+1)+\"): \"))\n",
    "    \n",
    "    if guessed ==number:\n",
    "        print(\"You have founded in \"+str(i+1)+\" attempts\")\n",
    "        break\n",
    "    else:\n",
    "        print('What you have guessed is wrong')\n"
   ]
  },
  {
   "cell_type": "code",
   "execution_count": null,
   "metadata": {
    "_cell_guid": "79c7e3d0-c299-4dcb-8224-4455121ee9b0",
    "_uuid": "d629ff2d2480ee46fbb7e2d37f6b5fab8052498a",
    "collapsed": true
   },
   "outputs": [],
   "source": []
  }
 ],
 "metadata": {
  "kernelspec": {
   "display_name": "Python 3",
   "language": "python",
   "name": "python3"
  },
  "language_info": {
   "codemirror_mode": {
    "name": "ipython",
    "version": 3
   },
   "file_extension": ".py",
   "mimetype": "text/x-python",
   "name": "python",
   "nbconvert_exporter": "python",
   "pygments_lexer": "ipython3",
   "version": "3.6.8"
  }
 },
 "nbformat": 4,
 "nbformat_minor": 1
}
